{
  "nbformat": 4,
  "nbformat_minor": 0,
  "metadata": {
    "colab": {
      "provenance": [],
      "authorship_tag": "ABX9TyMWzfHhL48kzjJ+aRzvNQeo",
      "include_colab_link": true
    },
    "kernelspec": {
      "name": "python3",
      "display_name": "Python 3"
    },
    "language_info": {
      "name": "python"
    }
  },
  "cells": [
    {
      "cell_type": "markdown",
      "metadata": {
        "id": "view-in-github",
        "colab_type": "text"
      },
      "source": [
        "<a href=\"https://colab.research.google.com/github/kunwaratit/Python/blob/main/Python_Broadway/PythonDay_1.ipynb\" target=\"_parent\"><img src=\"https://colab.research.google.com/assets/colab-badge.svg\" alt=\"Open In Colab\"/></a>"
      ]
    },
    {
      "cell_type": "code",
      "execution_count": null,
      "metadata": {
        "id": "hdSVy-8PYQVg",
        "colab": {
          "base_uri": "https://localhost:8080/"
        },
        "outputId": "5c3f7b42-965d-47ff-c2c9-5d68b5e302b9"
      },
      "outputs": [
        {
          "output_type": "stream",
          "name": "stdout",
          "text": [
            "4\n",
            "<class 'int'>\n"
          ]
        }
      ],
      "source": [
        "#type\n",
        "x=4\n",
        "print(x)\n",
        "print(type(x))"
      ]
    },
    {
      "cell_type": "code",
      "source": [
        "y=6.12\n",
        "print(y)\n",
        "print(type(y))\n",
        "\n"
      ],
      "metadata": {
        "colab": {
          "base_uri": "https://localhost:8080/"
        },
        "id": "LCTgouqrZesR",
        "outputId": "f19b0ad0-1176-420d-ee12-c0dd3e582894"
      },
      "execution_count": null,
      "outputs": [
        {
          "output_type": "stream",
          "name": "stdout",
          "text": [
            "6.12\n",
            "<class 'float'>\n"
          ]
        }
      ]
    },
    {
      "cell_type": "code",
      "source": [
        "z='hello world'\n",
        "print(z)\n",
        "print(type(z))"
      ],
      "metadata": {
        "colab": {
          "base_uri": "https://localhost:8080/"
        },
        "id": "EqiYaZl9gEHk",
        "outputId": "b0a3e14a-8890-4991-85fc-c469ebf6d475"
      },
      "execution_count": null,
      "outputs": [
        {
          "output_type": "stream",
          "name": "stdout",
          "text": [
            "hello world\n",
            "<class 'str'>\n"
          ]
        }
      ]
    },
    {
      "cell_type": "code",
      "source": [
        "is_python_fun=True\n",
        "print(is_python_fun)\n",
        "print(type(is_python_fun))\n"
      ],
      "metadata": {
        "colab": {
          "base_uri": "https://localhost:8080/"
        },
        "id": "iUgF-qghgK1S",
        "outputId": "360ef147-7272-41c5-8c0b-a62b46befe5c"
      },
      "execution_count": null,
      "outputs": [
        {
          "output_type": "stream",
          "name": "stdout",
          "text": [
            "True\n",
            "<class 'bool'>\n"
          ]
        }
      ]
    },
    {
      "cell_type": "code",
      "source": [
        "# changing and uodating variable\n",
        "x=x+1\n",
        "y*=5\n",
        "z+='welcome'#concatenation\n",
        "print(x,y,z)\n"
      ],
      "metadata": {
        "colab": {
          "base_uri": "https://localhost:8080/"
        },
        "id": "NaME3BUnglon",
        "outputId": "5b9fbd71-e787-4abb-f5d1-bfc9ad3c8100"
      },
      "execution_count": null,
      "outputs": [
        {
          "output_type": "stream",
          "name": "stdout",
          "text": [
            "5 30.6 hello worldwelcome\n"
          ]
        }
      ]
    },
    {
      "cell_type": "code",
      "source": [
        "# assingning multiple values to the multiple variables\n",
        "a,b,c=2,5,6\n",
        "print(a)\n",
        "print(a,b,c)"
      ],
      "metadata": {
        "colab": {
          "base_uri": "https://localhost:8080/"
        },
        "id": "c58o4OWlhKPr",
        "outputId": "38d435d8-d75f-482c-ef0c-4fef3d6e327a"
      },
      "execution_count": null,
      "outputs": [
        {
          "output_type": "stream",
          "name": "stdout",
          "text": [
            "2\n",
            "2 4 6\n"
          ]
        }
      ]
    },
    {
      "cell_type": "code",
      "source": [
        "# Arithmetic Operations\n",
        "sumResult=a+b\n",
        "diffResult=b-a\n",
        "product_result=a*b\n",
        "quotient_res=b/a\n",
        "modulo_res=b%a\n",
        "power_res=b**a\n",
        "floorDivision=b//a\n",
        "\n",
        "print(sumResult,diffResult)\n",
        "print('sumResult',sumResult)\n",
        "print('diffResult',diffResult)\n",
        "print('quotient_res',quotient_res)\n",
        "print('product_result',product_result)\n",
        "print('modulo_res',modulo_res)\n",
        "print('power_res',power_res)\n",
        "print('floorDivision',floorDivision)"
      ],
      "metadata": {
        "colab": {
          "base_uri": "https://localhost:8080/"
        },
        "id": "orpnBtH8hdFR",
        "outputId": "6ea5b05f-d441-43a5-fd86-df9b0db69a3b"
      },
      "execution_count": null,
      "outputs": [
        {
          "output_type": "stream",
          "name": "stdout",
          "text": [
            "6 2\n",
            "sumResult 6\n",
            "diffResult 2\n",
            "quotient_res 2.0\n",
            "product_result 8\n",
            "modulo_res 0\n",
            "power_res 16\n",
            "floorDivision 2\n"
          ]
        }
      ]
    },
    {
      "cell_type": "code",
      "source": [
        "# python Numbers\n",
        "num1=10\n",
        "num2=20\n",
        "div_res=num1/num2\n",
        "floor_res=num1//num2\n",
        "mod_res=num1%num2\n",
        "print('div_res',div_res,'\\nfloor_res',floor_res,'\\nmod_res',mod_res)"
      ],
      "metadata": {
        "colab": {
          "base_uri": "https://localhost:8080/"
        },
        "id": "TbWkFpd7hxLC",
        "outputId": "d4bc396f-98f0-4c32-b6b9-296e145d8f8d"
      },
      "execution_count": null,
      "outputs": [
        {
          "output_type": "stream",
          "name": "stdout",
          "text": [
            "div_res 0.5 \n",
            "floor_res 0 \n",
            "mod_res 10\n"
          ]
        }
      ]
    },
    {
      "cell_type": "code",
      "source": [
        "num1=float(input('enter a num1:'))\n",
        "num2=float(input('enter another num2:'))\n",
        "print(f'sum of numbers {num1+num2}')\n",
        "print(f'diff of numbers {num1-num2}')\n",
        "print(f'Product of numbers {num1*num2}')\n",
        "print(f'div of numbers {num1/num2}')"
      ],
      "metadata": {
        "colab": {
          "base_uri": "https://localhost:8080/"
        },
        "id": "7b92RWd_jtoy",
        "outputId": "894efddb-ff8e-4830-9108-08462c95efd2"
      },
      "execution_count": null,
      "outputs": [
        {
          "output_type": "stream",
          "name": "stdout",
          "text": [
            "enter a num1:25\n",
            "enter another num2:5\n",
            "sum of numbers30.0\n",
            "diff of numbers20.0\n",
            "Product of numbers125.0\n",
            "div of numbers5.0\n"
          ]
        }
      ]
    },
    {
      "cell_type": "code",
      "source": [
        "True and False"
      ],
      "metadata": {
        "colab": {
          "base_uri": "https://localhost:8080/"
        },
        "id": "rq-IMyttlieD",
        "outputId": "a94d8a0f-9c55-45d7-9063-6c3001156421"
      },
      "execution_count": null,
      "outputs": [
        {
          "output_type": "execute_result",
          "data": {
            "text/plain": [
              "True"
            ]
          },
          "metadata": {},
          "execution_count": 28
        }
      ]
    },
    {
      "cell_type": "code",
      "source": [
        "True or False\n"
      ],
      "metadata": {
        "colab": {
          "base_uri": "https://localhost:8080/"
        },
        "id": "KKNw5oCfo6Ej",
        "outputId": "25131230-8868-45e2-947b-4dc3ee22f95e"
      },
      "execution_count": null,
      "outputs": [
        {
          "output_type": "execute_result",
          "data": {
            "text/plain": [
              "True"
            ]
          },
          "metadata": {},
          "execution_count": 31
        }
      ]
    },
    {
      "cell_type": "code",
      "source": [
        "not True"
      ],
      "metadata": {
        "colab": {
          "base_uri": "https://localhost:8080/"
        },
        "id": "GSJgYd_7pLkP",
        "outputId": "bfcb08f4-0292-4dd9-aef9-56945a16dbf0"
      },
      "execution_count": null,
      "outputs": [
        {
          "output_type": "execute_result",
          "data": {
            "text/plain": [
              "False"
            ]
          },
          "metadata": {},
          "execution_count": 32
        }
      ]
    },
    {
      "cell_type": "code",
      "source": [
        "not False\n"
      ],
      "metadata": {
        "colab": {
          "base_uri": "https://localhost:8080/"
        },
        "id": "6wL-MHZcpMi1",
        "outputId": "b2307115-d684-4cb4-aa5b-3828d4ad99c0"
      },
      "execution_count": null,
      "outputs": [
        {
          "output_type": "execute_result",
          "data": {
            "text/plain": [
              "True"
            ]
          },
          "metadata": {},
          "execution_count": 33
        }
      ]
    },
    {
      "cell_type": "code",
      "source": [
        "# true is 1 and false is 0\n",
        "True+True"
      ],
      "metadata": {
        "colab": {
          "base_uri": "https://localhost:8080/"
        },
        "id": "wWGz2mMhpPJs",
        "outputId": "63df15fc-5622-4104-a69d-5cdc55c2fe15"
      },
      "execution_count": null,
      "outputs": [
        {
          "output_type": "execute_result",
          "data": {
            "text/plain": [
              "2"
            ]
          },
          "metadata": {},
          "execution_count": 34
        }
      ]
    },
    {
      "cell_type": "code",
      "source": [
        "True*8"
      ],
      "metadata": {
        "colab": {
          "base_uri": "https://localhost:8080/"
        },
        "id": "lQ8ryjUwpVDG",
        "outputId": "76d7754d-a116-4120-c889-eee71a32a2bb"
      },
      "execution_count": null,
      "outputs": [
        {
          "output_type": "execute_result",
          "data": {
            "text/plain": [
              "8"
            ]
          },
          "metadata": {},
          "execution_count": 35
        }
      ]
    },
    {
      "cell_type": "code",
      "source": [
        "False-5"
      ],
      "metadata": {
        "colab": {
          "base_uri": "https://localhost:8080/"
        },
        "id": "YDFRMZDUpZ3K",
        "outputId": "d2ca7861-c64b-4130-a38e-e11f93636eeb"
      },
      "execution_count": null,
      "outputs": [
        {
          "output_type": "execute_result",
          "data": {
            "text/plain": [
              "-5"
            ]
          },
          "metadata": {},
          "execution_count": 38
        }
      ]
    },
    {
      "cell_type": "code",
      "source": [],
      "metadata": {
        "id": "8O5T027NpthE"
      },
      "execution_count": null,
      "outputs": []
    }
  ]
}