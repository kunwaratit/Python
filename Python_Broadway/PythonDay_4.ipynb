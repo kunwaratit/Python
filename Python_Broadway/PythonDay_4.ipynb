{
  "nbformat": 4,
  "nbformat_minor": 0,
  "metadata": {
    "colab": {
      "provenance": [],
      "authorship_tag": "ABX9TyPfaOyuQJBnrvzDfUHqCGMq",
      "include_colab_link": true
    },
    "kernelspec": {
      "name": "python3",
      "display_name": "Python 3"
    },
    "language_info": {
      "name": "python"
    }
  },
  "cells": [
    {
      "cell_type": "markdown",
      "metadata": {
        "id": "view-in-github",
        "colab_type": "text"
      },
      "source": [
        "<a href=\"https://colab.research.google.com/github/kunwaratit/Python/blob/main/Python_Broadway/PythonDay_4.ipynb\" target=\"_parent\"><img src=\"https://colab.research.google.com/assets/colab-badge.svg\" alt=\"Open In Colab\"/></a>"
      ]
    },
    {
      "cell_type": "code",
      "execution_count": null,
      "metadata": {
        "id": "MyGLo_SR1dJW"
      },
      "outputs": [],
      "source": []
    },
    {
      "cell_type": "markdown",
      "source": [
        "AssignMent\n"
      ],
      "metadata": {
        "id": "FwsfnpEQ5Kor"
      }
    },
    {
      "cell_type": "markdown",
      "source": [
        "Calculator"
      ],
      "metadata": {
        "id": "6lSvCXa35rLC"
      }
    },
    {
      "cell_type": "code",
      "source": [
        "\n",
        "def calc(a,b,c):\n",
        "  if(c=='+'):\n",
        "    return a+b\n",
        "  elif(c=='-'):\n",
        "    return a-b\n",
        "  elif(c=='/'):\n",
        "    return a/b\n",
        "  elif(c=='*'):\n",
        "    return a*b\n",
        "  elif(c=='%'):\n",
        "    return a%b\n",
        "\n",
        "\n",
        "while True:\n",
        "  work=input('enter the operator')\n",
        "  if(work=='q'):\n",
        "    break\n",
        "  num1=int(input('enter a num: '))\n",
        "  num2=int(input('enter second num: '))\n",
        "\n",
        "  value=calc(num1,num2,work)\n",
        "  print(f'Your {work} of num1 and num2 is {value}')"
      ],
      "metadata": {
        "colab": {
          "base_uri": "https://localhost:8080/"
        },
        "id": "LJUyrEC45MvE",
        "outputId": "46ae98bf-cbfc-4eac-f7e8-f17a7374a53b"
      },
      "execution_count": 39,
      "outputs": [
        {
          "name": "stdout",
          "output_type": "stream",
          "text": [
            "enter the operator+\n",
            "enter a num: 3\n",
            "enter second num: 2\n",
            "Your + of num1 and num2 is 5\n",
            "enter the operatorq\n"
          ]
        }
      ]
    },
    {
      "cell_type": "code",
      "source": [
        "my_l=[1,2,3]\n",
        "\n"
      ],
      "metadata": {
        "id": "n96n0N4_6w2j"
      },
      "execution_count": 44,
      "outputs": []
    },
    {
      "cell_type": "code",
      "source": [
        "my_list.append(4)"
      ],
      "metadata": {
        "id": "DjCRseIh-7-_"
      },
      "execution_count": 41,
      "outputs": []
    },
    {
      "cell_type": "code",
      "source": [
        "print(min(my_l))\n",
        "print(max(my_l))\n",
        "\n"
      ],
      "metadata": {
        "colab": {
          "base_uri": "https://localhost:8080/"
        },
        "id": "PSgvjF8wBbqX",
        "outputId": "33d03411-17c1-46f3-d7e7-1a4bb3fec4fe"
      },
      "execution_count": 42,
      "outputs": [
        {
          "output_type": "stream",
          "name": "stdout",
          "text": [
            "1\n",
            "4\n"
          ]
        }
      ]
    },
    {
      "cell_type": "code",
      "source": [],
      "metadata": {
        "colab": {
          "base_uri": "https://localhost:8080/",
          "height": 145
        },
        "id": "IpZhZJEhBddF",
        "outputId": "88f4fff7-a5a1-478c-fbbb-33bc66569cc5"
      },
      "execution_count": 45,
      "outputs": [
        {
          "output_type": "error",
          "ename": "TypeError",
          "evalue": "'int' object is not callable",
          "traceback": [
            "\u001b[0;31m---------------------------------------------------------------------------\u001b[0m",
            "\u001b[0;31mTypeError\u001b[0m                                 Traceback (most recent call last)",
            "\u001b[0;32m<ipython-input-45-7e0bac1b5095>\u001b[0m in \u001b[0;36m<cell line: 1>\u001b[0;34m()\u001b[0m\n\u001b[0;32m----> 1\u001b[0;31m \u001b[0mprint\u001b[0m\u001b[0;34m(\u001b[0m\u001b[0mlen\u001b[0m\u001b[0;34m(\u001b[0m\u001b[0mmy_l\u001b[0m\u001b[0;34m)\u001b[0m\u001b[0;34m)\u001b[0m\u001b[0;34m\u001b[0m\u001b[0;34m\u001b[0m\u001b[0m\n\u001b[0m",
            "\u001b[0;31mTypeError\u001b[0m: 'int' object is not callable"
          ]
        }
      ]
    },
    {
      "cell_type": "code",
      "source": [
        "Dict={'milk':{\n",
        "    'quantity':'1',\n",
        "    'price':'200'\n",
        "},\n",
        "      'sugar':{\n",
        "    'quantity':'1',\n",
        "    'price':'200'\n",
        "}}\n",
        "Dict['milk']"
      ],
      "metadata": {
        "colab": {
          "base_uri": "https://localhost:8080/"
        },
        "id": "0vCwGO0aCXPK",
        "outputId": "989c944b-9efb-4cd6-e9b2-097cb4018ff5"
      },
      "execution_count": 51,
      "outputs": [
        {
          "output_type": "execute_result",
          "data": {
            "text/plain": [
              "{'quantity': '1', 'price': '200'}"
            ]
          },
          "metadata": {},
          "execution_count": 51
        }
      ]
    },
    {
      "cell_type": "code",
      "source": [
        "user=input('enter name')\n",
        "userlist=['asd']\n",
        "user_list=userlist.append(user)\n",
        "print(userlist)"
      ],
      "metadata": {
        "colab": {
          "base_uri": "https://localhost:8080/"
        },
        "id": "K7XxBlTRDb25",
        "outputId": "1e6924e6-746e-4fbb-d6b8-ebe4bb95a377"
      },
      "execution_count": 80,
      "outputs": [
        {
          "output_type": "stream",
          "name": "stdout",
          "text": [
            "enter nameAtit\n",
            "['asd', 'Atit']\n"
          ]
        }
      ]
    },
    {
      "cell_type": "code",
      "source": [
        "user_list=userlist.append(user)\n",
        "print(userlist)\n"
      ],
      "metadata": {
        "colab": {
          "base_uri": "https://localhost:8080/"
        },
        "id": "1mda_CleFUi4",
        "outputId": "a5917259-2d23-497e-dc1b-7a0b02aca55c"
      },
      "execution_count": 81,
      "outputs": [
        {
          "output_type": "stream",
          "name": "stdout",
          "text": [
            "['asd', 'Atit', 'Atit']\n"
          ]
        }
      ]
    },
    {
      "cell_type": "code",
      "source": [
        "user=input('enter name')\n",
        "userlist=['asd']\n",
        "user_list=userlist.append(user)\n",
        "print(userlist)"
      ],
      "metadata": {
        "colab": {
          "base_uri": "https://localhost:8080/"
        },
        "id": "hdHxX7q0FXVA",
        "outputId": "1cca6544-f99b-4420-afe2-305421261e49"
      },
      "execution_count": 82,
      "outputs": [
        {
          "output_type": "stream",
          "name": "stdout",
          "text": [
            "enter nameManjit\n",
            "['asd', 'Manjit']\n"
          ]
        }
      ]
    },
    {
      "cell_type": "code",
      "source": [],
      "metadata": {
        "id": "6WqADB5qHXji"
      },
      "execution_count": 82,
      "outputs": []
    }
  ]
}