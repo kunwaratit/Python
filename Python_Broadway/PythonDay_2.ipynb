{
  "nbformat": 4,
  "nbformat_minor": 0,
  "metadata": {
    "colab": {
      "provenance": [],
      "mount_file_id": "19EVvPWqgnjOAntHLHsJzeKFbt6tc1WRm",
      "authorship_tag": "ABX9TyOFepxdIIxktq/ks/ybBui9",
      "include_colab_link": true
    },
    "kernelspec": {
      "name": "python3",
      "display_name": "Python 3"
    },
    "language_info": {
      "name": "python"
    }
  },
  "cells": [
    {
      "cell_type": "markdown",
      "metadata": {
        "id": "view-in-github",
        "colab_type": "text"
      },
      "source": [
        "<a href=\"https://colab.research.google.com/github/kunwaratit/Python/blob/main/Python_Broadway/PythonDay_2.ipynb\" target=\"_parent\"><img src=\"https://colab.research.google.com/assets/colab-badge.svg\" alt=\"Open In Colab\"/></a>"
      ]
    },
    {
      "cell_type": "markdown",
      "source": [
        "# Print **Formats**"
      ],
      "metadata": {
        "id": "FUp_n6GaufzE"
      }
    },
    {
      "cell_type": "code",
      "execution_count": null,
      "metadata": {
        "colab": {
          "base_uri": "https://localhost:8080/"
        },
        "id": "kCnko_Wmkk6d",
        "outputId": "6d11bd0c-bc24-4e25-9dda-fa1d0c46c04c"
      },
      "outputs": [
        {
          "output_type": "stream",
          "name": "stdout",
          "text": [
            "I am python.Nice to meet you!\n"
          ]
        }
      ],
      "source": [
        "print('I am python.Nice to meet you!')"
      ]
    },
    {
      "cell_type": "code",
      "source": [
        "print('Geeks :%d \\n Portal: %.3f'%(555,3333.3333333))"
      ],
      "metadata": {
        "colab": {
          "base_uri": "https://localhost:8080/"
        },
        "id": "_8n9dow1sznP",
        "outputId": "fa8b048a-88c1-4f3e-9274-161bbaff08a5"
      },
      "execution_count": null,
      "outputs": [
        {
          "output_type": "stream",
          "name": "stdout",
          "text": [
            "Geeks :555 \n",
            " Portal: 3333.333\n"
          ]
        }
      ]
    },
    {
      "cell_type": "code",
      "source": [
        "print('i love {} for \"{}\"'.format('geeks','geeks'))"
      ],
      "metadata": {
        "colab": {
          "base_uri": "https://localhost:8080/"
        },
        "id": "NAnOH6wntHih",
        "outputId": "9e3a518b-6841-4177-8790-b623ce7313e1"
      },
      "execution_count": null,
      "outputs": [
        {
          "output_type": "stream",
          "name": "stdout",
          "text": [
            "i love geeks for \"geeks\"\n"
          ]
        }
      ]
    },
    {
      "cell_type": "code",
      "source": [
        "print('i love {} for don\\'t \"{}\"'.format('geeks','geeks'))"
      ],
      "metadata": {
        "colab": {
          "base_uri": "https://localhost:8080/"
        },
        "id": "WIwWRLY9tnX7",
        "outputId": "7549da1b-73ad-4cae-a27d-d74cc699bfe3"
      },
      "execution_count": null,
      "outputs": [
        {
          "output_type": "stream",
          "name": "stdout",
          "text": [
            "i love geeks for don't \"geeks\"\n"
          ]
        }
      ]
    },
    {
      "cell_type": "code",
      "source": [
        "print('Number one portal is {0},{1} and {other} '.format('geeks','for',other='Geeks'))"
      ],
      "metadata": {
        "colab": {
          "base_uri": "https://localhost:8080/"
        },
        "id": "4VAlpYM7t2qK",
        "outputId": "0b9b3fb0-9e3e-45f2-bc9a-5351ec28af15"
      },
      "execution_count": null,
      "outputs": [
        {
          "output_type": "stream",
          "name": "stdout",
          "text": [
            "Number one portal is geeks,for and Geeks \n"
          ]
        }
      ]
    },
    {
      "cell_type": "code",
      "source": [
        "name='Atit Kunwar'\n",
        "print(f'My name is {name}')"
      ],
      "metadata": {
        "colab": {
          "base_uri": "https://localhost:8080/"
        },
        "id": "7nz9YhsXuWjj",
        "outputId": "9588f1da-7b02-455b-b0a7-3ff1d97d006e"
      },
      "execution_count": null,
      "outputs": [
        {
          "output_type": "stream",
          "name": "stdout",
          "text": [
            "My name is Atit Kunwar\n"
          ]
        }
      ]
    },
    {
      "cell_type": "code",
      "source": [
        "input_string_var=input('enter some data')\n",
        "input_string_var"
      ],
      "metadata": {
        "colab": {
          "base_uri": "https://localhost:8080/",
          "height": 54
        },
        "id": "3QH7e267u5aR",
        "outputId": "0539e5e1-8955-4970-8b73-52bf5901cce9"
      },
      "execution_count": null,
      "outputs": [
        {
          "name": "stdout",
          "output_type": "stream",
          "text": [
            "enter some data!false\n"
          ]
        },
        {
          "output_type": "execute_result",
          "data": {
            "text/plain": [
              "'!false'"
            ],
            "application/vnd.google.colaboratory.intrinsic+json": {
              "type": "string"
            }
          },
          "metadata": {},
          "execution_count": 13
        }
      ]
    },
    {
      "cell_type": "code",
      "source": [
        "some_var=None"
      ],
      "metadata": {
        "id": "j-LYdFqXvK8l"
      },
      "execution_count": null,
      "outputs": []
    },
    {
      "cell_type": "markdown",
      "source": [
        "# **LOOPS**\n"
      ],
      "metadata": {
        "id": "uAI7padFxQWP"
      }
    },
    {
      "cell_type": "code",
      "source": [
        "# ternary operator\n",
        "'Yay' if 0>1 else 'Nay'\n"
      ],
      "metadata": {
        "colab": {
          "base_uri": "https://localhost:8080/",
          "height": 36
        },
        "id": "UkcDYJAEwTK0",
        "outputId": "8726698d-05bf-487f-9f06-aeb8d0858ce9"
      },
      "execution_count": null,
      "outputs": [
        {
          "output_type": "execute_result",
          "data": {
            "text/plain": [
              "'Nay'"
            ],
            "application/vnd.google.colaboratory.intrinsic+json": {
              "type": "string"
            }
          },
          "metadata": {},
          "execution_count": 16
        }
      ]
    },
    {
      "cell_type": "code",
      "source": [
        "some_var=5\n",
        "if some_var>10:\n",
        "  print('some_var is bigger than 10')\n",
        "elif some_var<10:\n",
        "  print('some var is bigger than 10')\n",
        "else:\n",
        "  print('some var is indeed 10')\n"
      ],
      "metadata": {
        "colab": {
          "base_uri": "https://localhost:8080/"
        },
        "id": "smy7xtQbwam-",
        "outputId": "39b140fd-51c5-42aa-ff2e-9a10fda61a24"
      },
      "execution_count": null,
      "outputs": [
        {
          "output_type": "stream",
          "name": "stdout",
          "text": [
            "some var is bigger than 10\n"
          ]
        }
      ]
    },
    {
      "cell_type": "markdown",
      "source": [
        "**For loops**\n"
      ],
      "metadata": {
        "id": "1L8pJXwRxdJv"
      }
    },
    {
      "cell_type": "code",
      "source": [
        "for x in range(5):\n",
        "  print(x)"
      ],
      "metadata": {
        "colab": {
          "base_uri": "https://localhost:8080/"
        },
        "id": "9PlWX48HxKxz",
        "outputId": "3c7176d9-147f-48f5-e449-66df1b0eef46"
      },
      "execution_count": null,
      "outputs": [
        {
          "output_type": "stream",
          "name": "stdout",
          "text": [
            "0\n",
            "1\n",
            "2\n",
            "3\n",
            "4\n"
          ]
        }
      ]
    },
    {
      "cell_type": "code",
      "source": [
        "# for loops iterate over lists\n",
        "for animal in['cat','dog','mouse']:\n",
        "  print(f'{animal} is a mammal ')"
      ],
      "metadata": {
        "colab": {
          "base_uri": "https://localhost:8080/"
        },
        "id": "J2UXML6mx8dG",
        "outputId": "8b48d9c2-a90d-4372-c74f-9f6e0cf96405"
      },
      "execution_count": null,
      "outputs": [
        {
          "output_type": "stream",
          "name": "stdout",
          "text": [
            "cat is a mammal \n",
            "dog is a mammal \n",
            "mouse is a mammal \n"
          ]
        }
      ]
    },
    {
      "cell_type": "code",
      "source": [
        "for x in range(4,8):\n",
        "  print(x)"
      ],
      "metadata": {
        "colab": {
          "base_uri": "https://localhost:8080/"
        },
        "id": "zcYXixj2ye9I",
        "outputId": "4c83c7a0-7eac-4b03-cf43-8deef28f5aa0"
      },
      "execution_count": null,
      "outputs": [
        {
          "output_type": "stream",
          "name": "stdout",
          "text": [
            "4\n",
            "5\n",
            "6\n",
            "7\n"
          ]
        }
      ]
    },
    {
      "cell_type": "code",
      "source": [
        "for x in range(1,8,2):      #(lower,upper,skip)\n",
        "  print(x)"
      ],
      "metadata": {
        "colab": {
          "base_uri": "https://localhost:8080/"
        },
        "id": "mqm14QWqzQd2",
        "outputId": "1daac206-eb69-4ce5-c6b3-a9131240e37a"
      },
      "execution_count": null,
      "outputs": [
        {
          "output_type": "stream",
          "name": "stdout",
          "text": [
            "1\n",
            "3\n",
            "5\n",
            "7\n"
          ]
        }
      ]
    },
    {
      "cell_type": "code",
      "source": [
        "animals=['dog','cat','mouse']\n",
        "for x,value in enumerate(animals):\n",
        "  print(x,value)\n"
      ],
      "metadata": {
        "colab": {
          "base_uri": "https://localhost:8080/"
        },
        "id": "CwsDbj2Czlus",
        "outputId": "fbf6ff30-4e43-49f5-f210-aef41918550a"
      },
      "execution_count": null,
      "outputs": [
        {
          "output_type": "stream",
          "name": "stdout",
          "text": [
            "0 dog\n",
            "1 cat\n",
            "2 mouse\n"
          ]
        }
      ]
    },
    {
      "cell_type": "code",
      "source": [
        "x=0\n",
        "while x<4:\n",
        "  print(x)\n",
        "  x+=1"
      ],
      "metadata": {
        "colab": {
          "base_uri": "https://localhost:8080/"
        },
        "id": "5axdW0Es0SoM",
        "outputId": "90e12275-d333-4c1d-fe5a-3c8696a1939a"
      },
      "execution_count": null,
      "outputs": [
        {
          "output_type": "stream",
          "name": "stdout",
          "text": [
            "0\n",
            "1\n",
            "2\n",
            "3\n"
          ]
        }
      ]
    },
    {
      "cell_type": "code",
      "source": [
        "# calculatte factorial#\n",
        "def fact(n):\n",
        "  if n==0:\n",
        "    return 1\n",
        "  else:\n",
        "    return n * fact(n-1)\n",
        "print(f'factorial of 5:{fact(5)}')"
      ],
      "metadata": {
        "colab": {
          "base_uri": "https://localhost:8080/"
        },
        "id": "MUSJNOuG0kOf",
        "outputId": "aad6e23e-b8ce-4781-f324-5cd5c5272bdf"
      },
      "execution_count": null,
      "outputs": [
        {
          "output_type": "stream",
          "name": "stdout",
          "text": [
            "factorial of 5:120\n"
          ]
        }
      ]
    },
    {
      "cell_type": "code",
      "source": [
        "def fibo(n):\n",
        "  if n<=1:\n",
        "    return n\n",
        "  else:\n",
        "    return fibo(n-1)+fibo(n-2)\n",
        "print('fibo seq up to 10:',[fibo(i) for i in range(10)])"
      ],
      "metadata": {
        "colab": {
          "base_uri": "https://localhost:8080/"
        },
        "id": "jusytbYG1UF9",
        "outputId": "0d94603a-6db1-46c0-85c9-87a33e08d506"
      },
      "execution_count": null,
      "outputs": [
        {
          "output_type": "stream",
          "name": "stdout",
          "text": [
            "fibo seq up to 10: [0, 1, 1, 2, 3, 5, 8, 13, 21, 34]\n"
          ]
        }
      ]
    },
    {
      "cell_type": "code",
      "source": [
        "def reverse_string(name):\n",
        "  if len(name)==0:\n",
        "    return name\n",
        "  else:\n",
        "    return reverse_string(name[1:])+name[0]\n",
        "reverse_string('Aavash')"
      ],
      "metadata": {
        "id": "Y-ifQ_P93TDB",
        "colab": {
          "base_uri": "https://localhost:8080/",
          "height": 36
        },
        "outputId": "76e0de36-3993-45bb-f1d1-1294ba5e9a31"
      },
      "execution_count": null,
      "outputs": [
        {
          "output_type": "execute_result",
          "data": {
            "text/plain": [
              "'hsavaA'"
            ],
            "application/vnd.google.colaboratory.intrinsic+json": {
              "type": "string"
            }
          },
          "metadata": {},
          "execution_count": 10
        }
      ]
    },
    {
      "cell_type": "code",
      "source": [
        "def reverse_string(name):\n",
        "  return(name[::-1])\n",
        "\n",
        "# word=input('enter word')\n",
        "reverse_string('word')"
      ],
      "metadata": {
        "id": "nz-ZSYUq4GTV",
        "colab": {
          "base_uri": "https://localhost:8080/",
          "height": 36
        },
        "outputId": "adc57dce-b149-4d11-e6ef-e265187dd991"
      },
      "execution_count": null,
      "outputs": [
        {
          "output_type": "execute_result",
          "data": {
            "text/plain": [
              "'drow'"
            ],
            "application/vnd.google.colaboratory.intrinsic+json": {
              "type": "string"
            }
          },
          "metadata": {},
          "execution_count": 24
        }
      ]
    },
    {
      "cell_type": "code",
      "source": [],
      "metadata": {
        "id": "EuX6zaD4nMAD"
      },
      "execution_count": null,
      "outputs": []
    }
  ]
}